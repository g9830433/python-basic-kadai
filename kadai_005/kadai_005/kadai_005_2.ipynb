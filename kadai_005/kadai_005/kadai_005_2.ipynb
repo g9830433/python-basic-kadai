{
  "nbformat": 4,
  "nbformat_minor": 0,
  "metadata": {
    "colab": {
      "provenance": []
    },
    "kernelspec": {
      "name": "python3",
      "display_name": "Python 3"
    },
    "language_info": {
      "name": "python"
    }
  },
  "cells": [
    {
      "cell_type": "code",
      "execution_count": 17,
      "metadata": {
        "colab": {
          "base_uri": "https://localhost:8080/"
        },
        "id": "8sEI3zyIe2_B",
        "outputId": "483d09bf-8974-418d-b6b5-bb340adb0f50"
      },
      "outputs": [
        {
          "output_type": "stream",
          "name": "stdout",
          "text": [
            "75.0cm2\n"
          ]
        }
      ],
      "source": [
        "top_side = 10\n",
        "bottom_side = 20\n",
        "hight= 5\n",
        "area = (top_side+bottom_side)/2*hight\n",
        "print(f\"{area}cm2\")\n",
        "#フォーマットラテラルの中は文字列\"\"\"、フォーマットラテラルの中の変数は{}"
      ]
    }
  ]
}