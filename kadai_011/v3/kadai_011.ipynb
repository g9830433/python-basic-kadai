{
  "nbformat": 4,
  "nbformat_minor": 0,
  "metadata": {
    "colab": {
      "provenance": []
    },
    "kernelspec": {
      "name": "python3",
      "display_name": "Python 3"
    },
    "language_info": {
      "name": "python"
    }
  },
  "cells": [
    {
      "cell_type": "code",
      "source": [
        "array = [\"水\",\"金\",\"地\",\"火\",\"木\",\"土\",\"天\",\"海\",\"冥\"]\n",
        "\n",
        "for value in array:\n",
        "  print(value)\n",
        "\n",
        "  # ここで指定する０はインデックス数\n",
        "i = 0\n",
        "while i < 9:\n",
        "  print(array[i])\n",
        "\n",
        "  # インデント処理をしないと認識されない\n",
        "  i = i + 1\n",
        "\n"
      ],
      "metadata": {
        "id": "IihCiWB16PJr",
        "colab": {
          "base_uri": "https://localhost:8080/"
        },
        "outputId": "14f4de1c-8976-4cbe-8448-21e5c887e19e"
      },
      "execution_count": null,
      "outputs": [
        {
          "output_type": "stream",
          "name": "stdout",
          "text": [
            "水\n",
            "金\n",
            "地\n",
            "火\n",
            "木\n",
            "土\n",
            "天\n",
            "海\n",
            "冥\n",
            "水\n",
            "金\n",
            "地\n",
            "火\n",
            "木\n",
            "土\n",
            "天\n",
            "海\n",
            "冥\n"
          ]
        }
      ]
    },
    {
      "cell_type": "code",
      "source": [],
      "metadata": {
        "id": "P_q5gTrtvHpq"
      },
      "execution_count": null,
      "outputs": []
    }
  ]
}