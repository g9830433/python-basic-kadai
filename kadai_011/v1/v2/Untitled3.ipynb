{
  "nbformat": 4,
  "nbformat_minor": 0,
  "metadata": {
    "colab": {
      "provenance": []
    },
    "kernelspec": {
      "name": "python3",
      "display_name": "Python 3"
    },
    "language_info": {
      "name": "python"
    }
  },
  "cells": [
    {
      "cell_type": "code",
      "source": [
        "array = [\"水\",\"金\",\"地\",\"火\",\"木\",\"土\",\"天\",\"海\",\"冥\"]\n",
        "\n",
        "for value in array:\n",
        "  print(value)\n",
        "\n",
        "# ここで指定する０はインデックス？回数？\n",
        "i = 0\n",
        "while i == 8:\n",
        "  print(array[i])\n",
        "\n",
        "i = i + 1\n",
        "\n"
      ],
      "metadata": {
        "id": "IihCiWB16PJr",
        "colab": {
          "base_uri": "https://localhost:8080/"
        },
        "outputId": "fb1a24ac-60e3-4ee7-9f74-c7d8b0b89cac"
      },
      "execution_count": 22,
      "outputs": [
        {
          "output_type": "stream",
          "name": "stdout",
          "text": [
            "水\n",
            "金\n",
            "地\n",
            "火\n",
            "木\n",
            "土\n",
            "天\n",
            "海\n",
            "冥\n"
          ]
        }
      ]
    },
    {
      "cell_type": "code",
      "source": [],
      "metadata": {
        "id": "P_q5gTrtvHpq"
      },
      "execution_count": 10,
      "outputs": []
    }
  ]
}