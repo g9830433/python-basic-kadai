{
  "nbformat": 4,
  "nbformat_minor": 0,
  "metadata": {
    "colab": {
      "provenance": []
    },
    "kernelspec": {
      "name": "python3",
      "display_name": "Python 3"
    },
    "language_info": {
      "name": "python"
    }
  },
  "cells": [
    {
      "cell_type": "code",
      "source": [
        "class Human():\n",
        "  def __init__(self, name, age):\n",
        "    self.name = name\n",
        "    self.age = age\n",
        "\n",
        "  def check_adult(self): # self パラメータを追加\n",
        "    if self.age >= 20:\n",
        "      print(f\"{self.name}は大人\")\n",
        "    else:\n",
        "      print(f\"{self.name}は大人でない\")\n",
        "\n",
        "taro = Human(\"太郎\", 20)\n",
        "hanako = Human(\"花子\", 19)\n",
        "\n",
        "human_list = [taro,hanako]\n",
        "\n",
        "for human in human_list:\n",
        "  human.check_adult()\n",
        "\n",
        "\n",
        "\n",
        "\n"
      ],
      "metadata": {
        "colab": {
          "base_uri": "https://localhost:8080/"
        },
        "id": "L_ga-T6dblWj",
        "outputId": "1c08ace5-849f-4db6-abfa-f756b116bd9e"
      },
      "execution_count": 7,
      "outputs": [
        {
          "output_type": "stream",
          "name": "stdout",
          "text": [
            "太郎は大人\n",
            "花子は大人でない\n"
          ]
        }
      ]
    }
  ]
}