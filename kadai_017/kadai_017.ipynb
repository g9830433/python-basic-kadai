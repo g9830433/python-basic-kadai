{
  "nbformat": 4,
  "nbformat_minor": 0,
  "metadata": {
    "colab": {
      "provenance": []
    },
    "kernelspec": {
      "name": "python3",
      "display_name": "Python 3"
    },
    "language_info": {
      "name": "python"
    }
  },
  "cells": [
    {
      "cell_type": "code",
      "source": [
        "class Human():\n",
        "  def __init__(self, name, age):\n",
        "    self.name = name\n",
        "    self.age = age\n",
        "\n",
        "  def check_adult(self): # self パラメータを追加\n",
        "    if self.age >= 20:\n",
        "      print(\"大人\")\n",
        "    else:\n",
        "      print(\"大人でない\")\n",
        "\n",
        "taro = Human(\"太郎\", 20)\n",
        "hanako = Human(\"花子\", 15)\n",
        "sato = Human(\"sato\", 30)\n",
        "\n",
        "for i in range(2):\n",
        "  taro.check_adult()\n",
        "  hanako.check_adult()\n",
        "  sato.check_adult()\n"
      ],
      "metadata": {
        "colab": {
          "base_uri": "https://localhost:8080/"
        },
        "id": "L_ga-T6dblWj",
        "outputId": "ebd8077c-8529-4f2e-f735-ebe91615f981"
      },
      "execution_count": 12,
      "outputs": [
        {
          "output_type": "stream",
          "name": "stdout",
          "text": [
            "大人\n",
            "大人でない\n",
            "大人\n",
            "大人\n",
            "大人でない\n",
            "大人\n"
          ]
        }
      ]
    }
  ]
}