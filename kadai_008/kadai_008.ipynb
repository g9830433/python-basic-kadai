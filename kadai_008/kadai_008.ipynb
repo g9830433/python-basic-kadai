{
  "nbformat": 4,
  "nbformat_minor": 0,
  "metadata": {
    "colab": {
      "provenance": []
    },
    "kernelspec": {
      "name": "python3",
      "display_name": "Python 3"
    },
    "language_info": {
      "name": "python"
    }
  },
  "cells": [
    {
      "cell_type": "code",
      "source": [
        "import random\n",
        "var = random,randint(1,100)\n",
        "\n",
        "if var%3 == 0 and var%5 != 0:\n",
        "  print(\"Fizz\")\n",
        "elif var%5 == 0 and var%3 != 0:\n",
        "  print(\"Buzz\")\n",
        "elif var%3 ==0 and Var%5 == 0:\n",
        "  print(\"FizzBuzz\")\n",
        "else:\n",
        "  print(var)"
      ],
      "metadata": {
        "id": "kDn5AF3p107H"
      },
      "execution_count": null,
      "outputs": []
    }
  ]
}