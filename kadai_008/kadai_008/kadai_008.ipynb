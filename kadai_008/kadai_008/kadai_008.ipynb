{
  "nbformat": 4,
  "nbformat_minor": 0,
  "metadata": {
    "colab": {
      "provenance": []
    },
    "kernelspec": {
      "name": "python3",
      "display_name": "Python 3"
    },
    "language_info": {
      "name": "python"
    }
  },
  "cells": [
    {
      "cell_type": "code",
      "source": [
        "import random\n",
        "random.randint(1,100)\n",
        "num = var\n",
        "\n",
        "if var%3 == 0 and var%5 == 0:\n",
        "  print(\"FizzBuzz\")\n",
        "elif var%3 == 0 and var%5 != 0:\n",
        "  print(\"Fizz\")\n",
        "elif var%3 !=0 and var%5 == 0:\n",
        "  print(\"Buzz\")\n",
        "else:\n",
        "  print(num)"
      ],
      "metadata": {
        "id": "kDn5AF3p107H"
      },
      "execution_count": null,
      "outputs": []
    },
    {
      "cell_type": "code",
      "source": [],
      "metadata": {
        "id": "IihCiWB16PJr"
      },
      "execution_count": null,
      "outputs": []
    }
  ]
}