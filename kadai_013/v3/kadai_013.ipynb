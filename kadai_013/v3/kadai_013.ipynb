{
  "nbformat": 4,
  "nbformat_minor": 0,
  "metadata": {
    "colab": {
      "provenance": []
    },
    "kernelspec": {
      "name": "python3",
      "display_name": "Python 3"
    },
    "language_info": {
      "name": "python"
    }
  },
  "cells": [
    {
      "cell_type": "code",
      "source": [
        "# 課題\n",
        "def calculate(price, tax_rate):\n",
        "  total = price * (1 + tax_rate/100)\n",
        "  # printだと結果を表示させるだけ。データ型を持たない。次の処理に回す場合はreturnで出力＝戻り値で返す関数\n",
        "  return(total)\n",
        "# 小数点は処理できない\n",
        "print(calculate(110, 10))\n"
      ],
      "metadata": {
        "id": "P_q5gTrtvHpq",
        "colab": {
          "base_uri": "https://localhost:8080/"
        },
        "outputId": "e2dcfe9c-a6e3-46ee-be53-804745f18b8c"
      },
      "execution_count": 5,
      "outputs": [
        {
          "output_type": "stream",
          "name": "stdout",
          "text": [
            "121.00000000000001\n"
          ]
        }
      ]
    }
  ]
}