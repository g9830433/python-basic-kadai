{
  "nbformat": 4,
  "nbformat_minor": 0,
  "metadata": {
    "colab": {
      "provenance": []
    },
    "kernelspec": {
      "name": "python3",
      "display_name": "Python 3"
    },
    "language_info": {
      "name": "python"
    }
  },
  "cells": [
    {
      "cell_type": "code",
      "source": [
        "# 課題\n",
        "def culculate(price, tax_rate):\n",
        "  total = price * (1 + tax_rate)\n",
        "  # printだと結果を表示させるだけ。データ型を持たない。次の処理に回す場合はreturnで出力＝戻り値で返す関数\n",
        "  return(total)\n",
        "culculate(100, 0.1)\n",
        "print(culculate(100, 0.1))\n"
      ],
      "metadata": {
        "id": "P_q5gTrtvHpq",
        "colab": {
          "base_uri": "https://localhost:8080/"
        },
        "outputId": "6ef0c457-152a-4a46-bba5-71e4a616d6ea"
      },
      "execution_count": 2,
      "outputs": [
        {
          "output_type": "stream",
          "name": "stdout",
          "text": [
            "110.00000000000001\n"
          ]
        }
      ]
    }
  ]
}