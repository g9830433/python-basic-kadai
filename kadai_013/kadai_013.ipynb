{
  "nbformat": 4,
  "nbformat_minor": 0,
  "metadata": {
    "colab": {
      "provenance": []
    },
    "kernelspec": {
      "name": "python3",
      "display_name": "Python 3"
    },
    "language_info": {
      "name": "python"
    }
  },
  "cells": [
    {
      "cell_type": "code",
      "source": [
        "# 課題\n",
        "def culculate(price, tax):\n",
        "  total = price + tax\n",
        "  print(f\"{total}円\")\n",
        "culculate(100, 100*0.1)"
      ],
      "metadata": {
        "id": "P_q5gTrtvHpq",
        "colab": {
          "base_uri": "https://localhost:8080/"
        },
        "outputId": "e6190af9-f9c7-4949-b8ef-81d647932771"
      },
      "execution_count": 2,
      "outputs": [
        {
          "output_type": "stream",
          "name": "stdout",
          "text": [
            "110.0円\n"
          ]
        }
      ]
    }
  ]
}