{
  "nbformat": 4,
  "nbformat_minor": 0,
  "metadata": {
    "colab": {
      "provenance": []
    },
    "kernelspec": {
      "name": "python3",
      "display_name": "Python 3"
    },
    "language_info": {
      "name": "python"
    }
  },
  "cells": [
    {
      "cell_type": "code",
      "source": [
        "# ①クラス作成\n",
        "class Human():\n",
        "\n",
        "  # ①-1 属性作成\n",
        "  def __init__(self, name, age):\n",
        "    self.name = name\n",
        "    self.age = age\n",
        "\n",
        "  # ①-2 メソッド作成\n",
        "  # クラスのselfのみ呼び出せばname、ageは一緒に参照できる\n",
        "  def printinfo(self):\n",
        "    print(self.name, self.age)\n",
        "\n",
        "# ②実体化\n",
        "taro = Human(\"太郎\", 20)\n",
        "\n",
        "# ③メソッド呼び出し（メソッドはクラス内のメソッドから実体内のメソッドに代わっている）\n",
        "taro.printinfo()"
      ],
      "metadata": {
        "colab": {
          "base_uri": "https://localhost:8080/"
        },
        "id": "FqXSVjn54SXH",
        "outputId": "08e2773b-3525-4d36-8bee-bc3e24e696ba"
      },
      "execution_count": 6,
      "outputs": [
        {
          "output_type": "stream",
          "name": "stdout",
          "text": [
            "太郎 20\n"
          ]
        }
      ]
    }
  ]
}